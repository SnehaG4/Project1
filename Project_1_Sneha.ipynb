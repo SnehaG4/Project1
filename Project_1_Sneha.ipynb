{
  "nbformat": 4,
  "nbformat_minor": 0,
  "metadata": {
    "colab": {
      "private_outputs": true,
      "provenance": [],
      "collapsed_sections": []
    },
    "kernelspec": {
      "name": "python3",
      "display_name": "Python 3"
    },
    "language_info": {
      "name": "python"
    }
  },
  "cells": [
    {
      "cell_type": "markdown",
      "metadata": {
        "id": "caxgXdT684xL"
      },
      "source": [
        "<h1 id=\"data_acquisition\">Data Acquisition</h1>\n",
        "<p>\n",
        "There are various formats for a dataset, .csv, .json, .xlsx  etc. The dataset can be stored in different places, on your local machine or sometimes online.<br>\n",
        "In this section, you will learn how to load a dataset into our Jupyter Notebook.<br>\n",
        "In our case, the Automobile Dataset is an online source, and it is in CSV (comma separated value) format. Let's use this dataset as an example to practice data reading.\n",
        "<ul>\n",
        "    <li>data source: <a href=\"https://archive.ics.uci.edu/ml/machine-learning-databases/autos/imports-85.data\" target=\"_blank\">https://archive.ics.uci.edu/ml/machine-learning-databases/autos/imports-85.data</a></li>\n",
        "    <li>data type: csv</li>\n",
        "</ul>\n",
        "The Pandas Library is a useful tool that enables us to read various datasets into a data frame; our Jupyter notebook platforms have a built-in <b>Pandas Library</b> so that all we need to do is import Pandas without installing.\n",
        "</p>"
      ]
    },
    {
      "cell_type": "code",
      "source": [],
      "metadata": {
        "id": "IULJ48pF13x7"
      },
      "execution_count": null,
      "outputs": []
    },
    {
      "cell_type": "code",
      "source": [],
      "metadata": {
        "id": "5TyrYMNPsI4f"
      },
      "execution_count": null,
      "outputs": []
    },
    {
      "cell_type": "code",
      "metadata": {
        "id": "IV84_snf84xO"
      },
      "source": [
        "# import pandas library\n",
        "import pandas as pd\n",
        "import numpy as np\n"
      ],
      "execution_count": null,
      "outputs": []
    },
    {
      "cell_type": "code",
      "source": [],
      "metadata": {
        "id": "va-Amu5t5S9n"
      },
      "execution_count": null,
      "outputs": []
    },
    {
      "cell_type": "markdown",
      "metadata": {
        "id": "8vwLZral84xV"
      },
      "source": [
        "<h2>Read Data</h2>\n",
        "<p>\n",
        "We use <code>pandas.read_csv()</code> function to read the csv file. In the bracket, we put the file path along with a quotation mark, so that pandas will read the file into a data frame from that address. The file path can be either an URL or your local file address.<br>\n",
        "Because the data does not include headers, we can add an argument <code>headers = None</code>  inside the  <code>read_csv()</code> method, so that pandas will not automatically set the first row as a header.<br>\n",
        "You can also assign the dataset to any variable you create.\n",
        "</p>"
      ]
    },
    {
      "cell_type": "markdown",
      "metadata": {
        "id": "KYuq8tCj84xY"
      },
      "source": [
        "This dataset was hosted on IBM Cloud object click <a href=\"https://cocl.us/DA101EN_object_storage\">HERE</a> for free storage."
      ]
    },
    {
      "cell_type": "code",
      "metadata": {
        "jupyter": {
          "outputs_hidden": false
        },
        "id": "R44hKFg784xZ"
      },
      "source": [
        "# Import pandas library\n",
        "import pandas as pd\n",
        "\n",
        "# Read the online file by the URL provides above, and assign it to variable \"df\"\n",
        "other_path = \"https://s3-api.us-geo.objectstorage.softlayer.net/cf-courses-data/CognitiveClass/DA0101EN/auto.csv\"\n",
        "df = pd.read_csv(other_path, header=None)"
      ],
      "execution_count": null,
      "outputs": []
    },
    {
      "cell_type": "code",
      "source": [
        "df"
      ],
      "metadata": {
        "id": "xVp6px6n-IvY"
      },
      "execution_count": null,
      "outputs": []
    },
    {
      "cell_type": "code",
      "source": [
        "df.tail()"
      ],
      "metadata": {
        "id": "lv0QIJbPJ1m-"
      },
      "execution_count": null,
      "outputs": []
    },
    {
      "cell_type": "code",
      "source": [
        "df.dtypes"
      ],
      "metadata": {
        "id": "TjelTna1-O6c"
      },
      "execution_count": null,
      "outputs": []
    },
    {
      "cell_type": "code",
      "source": [
        "df.shape"
      ],
      "metadata": {
        "id": "lJEzLgcz-PIr"
      },
      "execution_count": null,
      "outputs": []
    },
    {
      "cell_type": "code",
      "source": [
        "df.count()"
      ],
      "metadata": {
        "id": "5_lMun-nIWY6"
      },
      "execution_count": null,
      "outputs": []
    },
    {
      "cell_type": "code",
      "source": [
        "df.describe()"
      ],
      "metadata": {
        "id": "lCux07JwIWed"
      },
      "execution_count": null,
      "outputs": []
    },
    {
      "cell_type": "code",
      "source": [
        "df.info()"
      ],
      "metadata": {
        "id": "5YjL87WSH9bQ"
      },
      "execution_count": null,
      "outputs": []
    },
    {
      "cell_type": "code",
      "source": [
        "df.isna()"
      ],
      "metadata": {
        "id": "yKAZdN2-gm7i"
      },
      "execution_count": null,
      "outputs": []
    },
    {
      "cell_type": "code",
      "source": [],
      "metadata": {
        "id": "Wgi9qht0qKUt"
      },
      "execution_count": null,
      "outputs": []
    },
    {
      "cell_type": "markdown",
      "metadata": {
        "id": "gyzBtSzb84x5"
      },
      "source": [
        "<h3>Add Headers</h3>\n",
        "<p>\n",
        "Take a look at our dataset; pandas automatically set the header by an integer from 0.\n",
        "</p>\n",
        "<p>\n",
        "To better describe our data we can introduce a header, this information is available at:  <a href=\"https://archive.ics.uci.edu/ml/datasets/Automobile\" target=\"_blank\">https://archive.ics.uci.edu/ml/datasets/Automobile</a>\n",
        "</p>\n",
        "<p>\n",
        "Thus, we have to add headers manually.\n",
        "</p>\n",
        "<p>\n",
        "Firstly, we create a list \"headers\" that include all column names in order.\n",
        "Then, we use <code>dataframe.columns = headers</code> to replace the headers by the list we created.\n",
        "</p>"
      ]
    },
    {
      "cell_type": "code",
      "metadata": {
        "jupyter": {
          "outputs_hidden": false
        },
        "id": "7K5D5V4v84x7"
      },
      "source": [
        "# create headers list\n",
        "headers = [\"symboling\",\"normalized-losses\",\"make\",\"fuel-type\",\"aspiration\", \"num-of-doors\",\"body-style\",\n",
        "         \"drive-wheels\",\"engine-location\",\"wheel-base\", \"length\",\"width\",\"height\",\"curb-weight\",\"engine-type\",\n",
        "         \"num-of-cylinders\", \"engine-size\",\"fuel-system\",\"bore\",\"stroke\",\"compression-ratio\",\"horsepower\",\n",
        "         \"peak-rpm\",\"city-mpg\",\"highway-mpg\",\"price\"]\n",
        "print(\"headers\\n\", headers)"
      ],
      "execution_count": null,
      "outputs": []
    },
    {
      "cell_type": "code",
      "source": [
        "df.columns=headers"
      ],
      "metadata": {
        "id": "I87ZSOdZ-G1M"
      },
      "execution_count": null,
      "outputs": []
    },
    {
      "cell_type": "code",
      "source": [
        "df"
      ],
      "metadata": {
        "id": "0H2Ph_zBDNf5"
      },
      "execution_count": null,
      "outputs": []
    },
    {
      "cell_type": "markdown",
      "source": [
        "## Identify and handle missing values"
      ],
      "metadata": {
        "id": "0LDoSDRhOG_N"
      }
    },
    {
      "cell_type": "code",
      "source": [
        "# convert \"?\" to NaN\n",
        "\n",
        "df1=df.replace('?',np.NaN)\n",
        "df1"
      ],
      "metadata": {
        "id": "6qoHeCuP5aUU"
      },
      "execution_count": null,
      "outputs": []
    },
    {
      "cell_type": "code",
      "source": [
        "df.isnull().sum()"
      ],
      "metadata": {
        "id": "yifaVp1TeUU9"
      },
      "execution_count": null,
      "outputs": []
    },
    {
      "cell_type": "code",
      "source": [
        "df[\"normalized-losses\"].value_counts()"
      ],
      "metadata": {
        "id": "wXIQ_2N8TMR2"
      },
      "execution_count": null,
      "outputs": []
    },
    {
      "cell_type": "code",
      "source": [
        "df=df1"
      ],
      "metadata": {
        "id": "cgjoc4PYTnkO"
      },
      "execution_count": null,
      "outputs": []
    },
    {
      "cell_type": "markdown",
      "source": [
        "##Replace \"NaN\" value with average of their column"
      ],
      "metadata": {
        "id": "USnUnyIjUOBs"
      }
    },
    {
      "cell_type": "code",
      "source": [
        "df1['normalized-losses'].fillna(value=0, inplace=True)"
      ],
      "metadata": {
        "id": "mr_PWuioI9Qv"
      },
      "execution_count": null,
      "outputs": []
    },
    {
      "cell_type": "code",
      "source": [
        "df1['normalized-losses']= df1['normalized-losses'].astype(int)"
      ],
      "metadata": {
        "id": "qlMxNPA2JePn"
      },
      "execution_count": null,
      "outputs": []
    },
    {
      "cell_type": "code",
      "source": [
        "df1['normalized-losses'].replace(0, df1['normalized-losses'].mean(), inplace=True)"
      ],
      "metadata": {
        "id": "ERMuWCguJ5zv"
      },
      "execution_count": null,
      "outputs": []
    },
    {
      "cell_type": "code",
      "source": [
        "df[\"normalized-losses\"].value_counts()"
      ],
      "metadata": {
        "id": "YaCoZuSMT-r3"
      },
      "execution_count": null,
      "outputs": []
    },
    {
      "cell_type": "code",
      "source": [
        "df1"
      ],
      "metadata": {
        "id": "p3lkyTP0KlP-"
      },
      "execution_count": null,
      "outputs": []
    },
    {
      "cell_type": "markdown",
      "source": [
        "## Replace \"NaN\" value with most frequenty in coloumn"
      ],
      "metadata": {
        "id": "kJUmYEVSUgB1"
      }
    },
    {
      "cell_type": "code",
      "source": [
        "df[\"num-of-doors\"].value_counts()"
      ],
      "metadata": {
        "id": "zuddTXYQU6gy"
      },
      "execution_count": null,
      "outputs": []
    },
    {
      "cell_type": "code",
      "source": [
        "df1['num-of-doors'].fillna(value=0, inplace=True)"
      ],
      "metadata": {
        "id": "IcXsuivZK9Cp"
      },
      "execution_count": null,
      "outputs": []
    },
    {
      "cell_type": "code",
      "source": [
        "df1['num-of-doors'].replace(0, 'four', inplace=True)"
      ],
      "metadata": {
        "id": "YEz4CMKGLRPQ"
      },
      "execution_count": null,
      "outputs": []
    },
    {
      "cell_type": "code",
      "source": [
        "df1['num-of-doors'].value_counts()"
      ],
      "metadata": {
        "id": "fnBSK63zL1mX"
      },
      "execution_count": null,
      "outputs": []
    },
    {
      "cell_type": "code",
      "source": [],
      "metadata": {
        "id": "4vE2l_MHNSEt"
      },
      "execution_count": null,
      "outputs": []
    },
    {
      "cell_type": "code",
      "source": [
        "df1['bore'].fillna(value=0, inplace=True)"
      ],
      "metadata": {
        "id": "0_gLQtSQNSrd"
      },
      "execution_count": null,
      "outputs": []
    },
    {
      "cell_type": "code",
      "source": [
        "df1['bore'].value_counts()"
      ],
      "metadata": {
        "id": "L2zrCiP8NFYY"
      },
      "execution_count": null,
      "outputs": []
    },
    {
      "cell_type": "code",
      "source": [
        "df1['bore']= df1['bore'].astype(float)"
      ],
      "metadata": {
        "id": "P5Bq6zEPNs5l"
      },
      "execution_count": null,
      "outputs": []
    },
    {
      "cell_type": "code",
      "source": [
        "df1['bore'].replace(0, df1['bore'].mean(), inplace=True)"
      ],
      "metadata": {
        "id": "y51I7UnaN7n2"
      },
      "execution_count": null,
      "outputs": []
    },
    {
      "cell_type": "code",
      "source": [
        "df1['bore'].value_counts()"
      ],
      "metadata": {
        "id": "Ax0mOXAeNntF"
      },
      "execution_count": null,
      "outputs": []
    },
    {
      "cell_type": "code",
      "source": [
        "df1['bore'].dtypes"
      ],
      "metadata": {
        "id": "t5hKDpbDNiUQ"
      },
      "execution_count": null,
      "outputs": []
    },
    {
      "cell_type": "code",
      "source": [
        "df1['stroke'].fillna(value=0, inplace=True)"
      ],
      "metadata": {
        "id": "vVi25I2gOYGa"
      },
      "execution_count": null,
      "outputs": []
    },
    {
      "cell_type": "code",
      "source": [
        "df1['stroke'].value_counts()"
      ],
      "metadata": {
        "id": "3oNJJq0-OXgZ"
      },
      "execution_count": null,
      "outputs": []
    },
    {
      "cell_type": "code",
      "source": [
        "df1['stroke']= df1['stroke'].astype(float)"
      ],
      "metadata": {
        "id": "VxpVEgFkO6q9"
      },
      "execution_count": null,
      "outputs": []
    },
    {
      "cell_type": "code",
      "source": [
        "df1['stroke'].dtypes"
      ],
      "metadata": {
        "id": "Wf6YB5vIOrKn"
      },
      "execution_count": null,
      "outputs": []
    },
    {
      "cell_type": "code",
      "source": [
        "df1['stroke'].replace(0, df1['stroke'].mean(), inplace=True)"
      ],
      "metadata": {
        "id": "I0EejttSPF_X"
      },
      "execution_count": null,
      "outputs": []
    },
    {
      "cell_type": "code",
      "source": [
        "df1['stroke'].value_counts()"
      ],
      "metadata": {
        "id": "HcGvmhRtPPOm"
      },
      "execution_count": null,
      "outputs": []
    },
    {
      "cell_type": "code",
      "source": [
        "df1.dtypes"
      ],
      "metadata": {
        "id": "Iuxc5ujsPZSV"
      },
      "execution_count": null,
      "outputs": []
    },
    {
      "cell_type": "code",
      "source": [
        "df1['horsepower'].fillna(value=0, inplace=True)"
      ],
      "metadata": {
        "id": "YIavXPQ3QBGl"
      },
      "execution_count": null,
      "outputs": []
    },
    {
      "cell_type": "code",
      "source": [
        "df1['horsepower'].value_counts()"
      ],
      "metadata": {
        "id": "jPtNLlwPQHFj"
      },
      "execution_count": null,
      "outputs": []
    },
    {
      "cell_type": "code",
      "source": [
        "df1['horsepower']= df1['horsepower'].astype(int)"
      ],
      "metadata": {
        "id": "J-ma9qYgQZCF"
      },
      "execution_count": null,
      "outputs": []
    },
    {
      "cell_type": "code",
      "source": [
        "df1['horsepower'].replace(0, df1['horsepower'].mean(), inplace=True)"
      ],
      "metadata": {
        "id": "eknUCNVPQle7"
      },
      "execution_count": null,
      "outputs": []
    },
    {
      "cell_type": "code",
      "source": [
        "df1['horsepower'].dtypes"
      ],
      "metadata": {
        "id": "G_z4MJq3QreP"
      },
      "execution_count": null,
      "outputs": []
    },
    {
      "cell_type": "code",
      "source": [
        "df1.dtypes"
      ],
      "metadata": {
        "id": "G0ziwBiJRDKp"
      },
      "execution_count": null,
      "outputs": []
    },
    {
      "cell_type": "code",
      "source": [],
      "metadata": {
        "id": "85hXhaMuRJ-m"
      },
      "execution_count": null,
      "outputs": []
    },
    {
      "cell_type": "code",
      "source": [
        "df1['peak-rpm'].fillna(value=0, inplace=True)"
      ],
      "metadata": {
        "id": "T1LyMXb1RevQ"
      },
      "execution_count": null,
      "outputs": []
    },
    {
      "cell_type": "code",
      "source": [
        "df1['peak-rpm']= df1['peak-rpm'].astype(int)"
      ],
      "metadata": {
        "id": "nQIe8GXGRmm4"
      },
      "execution_count": null,
      "outputs": []
    },
    {
      "cell_type": "code",
      "source": [
        "df1['peak-rpm'].replace(0, df1['peak-rpm'].mean(), inplace=True)"
      ],
      "metadata": {
        "id": "khmzwybkRvDU"
      },
      "execution_count": null,
      "outputs": []
    },
    {
      "cell_type": "code",
      "source": [
        "df1['peak-rpm'].dtypes"
      ],
      "metadata": {
        "id": "2Fg10EqxR3MD"
      },
      "execution_count": null,
      "outputs": []
    },
    {
      "cell_type": "code",
      "source": [
        "df1['price'].fillna(value=0, inplace=True)"
      ],
      "metadata": {
        "id": "1zNAEe6ySIJM"
      },
      "execution_count": null,
      "outputs": []
    },
    {
      "cell_type": "code",
      "source": [
        "df1['price'].value_counts()"
      ],
      "metadata": {
        "id": "-Zub5JVaSMhZ"
      },
      "execution_count": null,
      "outputs": []
    },
    {
      "cell_type": "code",
      "source": [
        "df1['price']= df1['price'].astype(int)"
      ],
      "metadata": {
        "id": "3vqC2boZSW0L"
      },
      "execution_count": null,
      "outputs": []
    },
    {
      "cell_type": "code",
      "source": [
        "df1['price'].replace(0, df1['price'].mean(), inplace=True)"
      ],
      "metadata": {
        "id": "xJ_NKU78Sd7B"
      },
      "execution_count": null,
      "outputs": []
    },
    {
      "cell_type": "code",
      "source": [
        "df1['price'].value_counts()"
      ],
      "metadata": {
        "id": "swBgIip5Sjlz"
      },
      "execution_count": null,
      "outputs": []
    },
    {
      "cell_type": "code",
      "source": [
        "df1.dtypes\n"
      ],
      "metadata": {
        "id": "HrYzxa6a1CLP"
      },
      "execution_count": null,
      "outputs": []
    },
    {
      "cell_type": "code",
      "source": [
        "df1['num-of-cylinders'].value_counts()"
      ],
      "metadata": {
        "id": "X3shAvDY1HnO"
      },
      "execution_count": null,
      "outputs": []
    },
    {
      "cell_type": "code",
      "source": [
        "df1.head()"
      ],
      "metadata": {
        "id": "6ZyLy1QS10A1"
      },
      "execution_count": null,
      "outputs": []
    },
    {
      "cell_type": "code",
      "source": [
        "df1"
      ],
      "metadata": {
        "id": "GKg0VO2G30Nr"
      },
      "execution_count": null,
      "outputs": []
    },
    {
      "cell_type": "code",
      "source": [
        "# conevrt miles per gallon(mpg)  value into liters per 100km using the  formula for units conversation\n",
        "# is L/100km=235=mpg\n",
        "\n",
        "df1['city-l/100km'] = 235/df1['city-mpg']\n",
        "df1['highway-l/100km'] = 235/df1['highway-mpg']\n"
      ],
      "metadata": {
        "id": "aU2Iitlj5Vom"
      },
      "execution_count": null,
      "outputs": []
    },
    {
      "cell_type": "code",
      "source": [
        "df1[['city-l/100km', 'city-mpg', 'highway-l/100km', 'highway-mpg']].head()"
      ],
      "metadata": {
        "id": "IGnApsiQYJnn"
      },
      "execution_count": null,
      "outputs": []
    },
    {
      "cell_type": "code",
      "source": [
        "df1.head()"
      ],
      "metadata": {
        "id": "H2ywLXI45Vt0"
      },
      "execution_count": null,
      "outputs": []
    },
    {
      "cell_type": "code",
      "source": [
        "df1[['length','width', 'height']].head()"
      ],
      "metadata": {
        "id": "v7naSuEZZobr"
      },
      "execution_count": null,
      "outputs": []
    },
    {
      "cell_type": "code",
      "source": [
        "# Bring original columns range to umiform range 0-1\n",
        " \n",
        "# check how many numerical columns\n",
        " \n",
        "df_num=df1.select_dtypes(include=np.number)/df1.select_dtypes(include=np.number).max()\n",
        "df_num"
      ],
      "metadata": {
        "id": "MsnX_4BIg3di"
      },
      "execution_count": null,
      "outputs": []
    },
    {
      "cell_type": "code",
      "source": [],
      "metadata": {
        "id": "bfhq4Hx2qg0J"
      },
      "execution_count": null,
      "outputs": []
    },
    {
      "cell_type": "code",
      "source": [
        "df1"
      ],
      "metadata": {
        "id": "MlHj2WN9pdNg"
      },
      "execution_count": null,
      "outputs": []
    },
    {
      "cell_type": "code",
      "source": [
        "# Binning\n",
        "\n",
        "df1['horsepower']=df1['horsepower'].astype(float, copy=True)"
      ],
      "metadata": {
        "id": "m4Qi7QHeqh-L"
      },
      "execution_count": null,
      "outputs": []
    },
    {
      "cell_type": "code",
      "source": [
        "binW = (max(df1['horsepower'])- min(df1['horsepower']))/4\n",
        "binW"
      ],
      "metadata": {
        "id": "SFLJz-Q7q1XT"
      },
      "execution_count": null,
      "outputs": []
    },
    {
      "cell_type": "code",
      "source": [
        "bin= np.arange(min(df1['horsepower']), max(df1['horsepower']), binW)\n",
        "bin"
      ],
      "metadata": {
        "id": "JZEDLwBrrPEM"
      },
      "execution_count": null,
      "outputs": []
    },
    {
      "cell_type": "code",
      "source": [
        "group_name=['little-horsepower', 'medium-horsepower', 'high=horsepower']"
      ],
      "metadata": {
        "id": "FGH4eB9osKpG"
      },
      "execution_count": null,
      "outputs": []
    },
    {
      "cell_type": "code",
      "source": [
        "df1['horsepower-bin'] = pd.cut(df1['horsepower'], bin, labels=group_name, include_lowest=True )\n",
        "\n",
        "df1[['horsepower', 'horsepower-bin']].head(20)"
      ],
      "metadata": {
        "id": "Z9iNxz71ttH4"
      },
      "execution_count": null,
      "outputs": []
    },
    {
      "cell_type": "markdown",
      "source": [
        "##Bins Visualization"
      ],
      "metadata": {
        "id": "-fC8nWg_ybas"
      }
    },
    {
      "cell_type": "code",
      "source": [
        "import matplotlib as mpl\n",
        "import matplotlib.pyplot as plt\n",
        "import matplotlib.patches as mpatches"
      ],
      "metadata": {
        "id": "KFp3ujORySUp"
      },
      "execution_count": null,
      "outputs": []
    },
    {
      "cell_type": "code",
      "source": [
        "mpl.style.use(['ggplot'])\n",
        "\n",
        "total_cat =3\n",
        "\n",
        "#Lets get the x-tick values\n",
        "\n",
        "count, bin_edges = np.histogram(df1['horsepower'], 3)\n",
        "\n",
        "fig, ax = plt.subplots(figsize=(12,4))\n",
        "N, bins, patches = ax.hist(df1['horsepower'], bins=total_cat*10, edgecolor='white', linewidth=1)\n",
        "\n",
        "for i in range(0, 10):\n",
        "  patches[i].set_facecolor('r')\n",
        "for i in range(10, 20):\n",
        "  patches[i].set_facecolor('b')\n",
        "for i in range(20, 30):\n",
        "  patches[i].set_facecolor('g')\n",
        "    \n",
        "ax.set_xticks(bin_edges)\n",
        "\n",
        "ax.set_title('Horsepower bin')\n",
        "ax.set_ylabel('Count')\n",
        "ax.set_xlabel('Horsepower')\n",
        "\n",
        "red_patch = mpatches.Patch(color='red', label=\"Low-Horsepower\")\n",
        "blue_patch = mpatches.Patch(color='blue', label=\"Medium-Horsepower\")\n",
        "green_patch = mpatches.Patch(color='green', label=\"High-Horsepower\")\n",
        "\n",
        "plt.legend(handles=[red_patch, blue_patch, green_patch])\n",
        "\n",
        "plt.show()\n"
      ],
      "metadata": {
        "id": "oUiGNqzRAPJw"
      },
      "execution_count": null,
      "outputs": []
    },
    {
      "cell_type": "code",
      "source": [
        "# convert fuel type into indicator variable\n",
        "\n",
        "\n",
        "df1.columns"
      ],
      "metadata": {
        "id": "9cxfin5nu1j0"
      },
      "execution_count": null,
      "outputs": []
    },
    {
      "cell_type": "code",
      "source": [
        "dummy_var  = pd.get_dummies(df1['fuel-type'])\n",
        "dummy_var"
      ],
      "metadata": {
        "id": "K75TxyxYADpV"
      },
      "execution_count": null,
      "outputs": []
    },
    {
      "cell_type": "code",
      "source": [
        "dummy_var.rename(columns={'gas' :'fuel-type-gas', 'diesel':'fuel-type-diesel'}, inplace=True)\n",
        "dummy_var.head(10)"
      ],
      "metadata": {
        "id": "jQ9jOA_EAVLR"
      },
      "execution_count": null,
      "outputs": []
    },
    {
      "cell_type": "code",
      "source": [
        "df1 = pd.concat([df1, dummy_var], axis=1)"
      ],
      "metadata": {
        "id": "ycarA-E3DInY"
      },
      "execution_count": null,
      "outputs": []
    },
    {
      "cell_type": "code",
      "source": [
        "df1"
      ],
      "metadata": {
        "id": "5mYBTnTvC7-r"
      },
      "execution_count": null,
      "outputs": []
    },
    {
      "cell_type": "code",
      "source": [
        "df1.drop('fuel-type', axis = 1, inplace=True)"
      ],
      "metadata": {
        "id": "lWu87W5PBvGM"
      },
      "execution_count": null,
      "outputs": []
    },
    {
      "cell_type": "code",
      "source": [
        "df1.head(20)"
      ],
      "metadata": {
        "id": "ByxlK1_GxJsB"
      },
      "execution_count": null,
      "outputs": []
    },
    {
      "cell_type": "code",
      "source": [],
      "metadata": {
        "id": "HtUaVwumMOVh"
      },
      "execution_count": null,
      "outputs": []
    },
    {
      "cell_type": "code",
      "source": [
        "# convert Aspiration into indicator variable\n",
        "\n",
        "\n",
        "df1['aspiration'].value_counts()"
      ],
      "metadata": {
        "id": "qBFmnmn-MOzf"
      },
      "execution_count": null,
      "outputs": []
    },
    {
      "cell_type": "code",
      "source": [
        "dummy_var1  = pd.get_dummies(df1['aspiration'])\n",
        "dummy_var1"
      ],
      "metadata": {
        "id": "OmJRkbeqf5Bi"
      },
      "execution_count": null,
      "outputs": []
    },
    {
      "cell_type": "code",
      "source": [
        "dummy_var1.rename(columns={'std' :'aspiration_std', 'turbo':'aspiration_turbo'}, inplace=True)\n",
        "dummy_var1.head(10)"
      ],
      "metadata": {
        "id": "tB_FQN50gMDY"
      },
      "execution_count": null,
      "outputs": []
    },
    {
      "cell_type": "code",
      "source": [
        "df1 = pd.concat([df1, dummy_var1], axis=1)"
      ],
      "metadata": {
        "id": "QSEqVX-agqPw"
      },
      "execution_count": null,
      "outputs": []
    },
    {
      "cell_type": "code",
      "source": [
        "df1"
      ],
      "metadata": {
        "id": "VAK4ymgoguP9"
      },
      "execution_count": null,
      "outputs": []
    },
    {
      "cell_type": "code",
      "source": [
        "df1.drop('aspiration', axis = 1, inplace=True)"
      ],
      "metadata": {
        "id": "ucde3QoshAPQ"
      },
      "execution_count": null,
      "outputs": []
    },
    {
      "cell_type": "code",
      "source": [
        "df1.head()"
      ],
      "metadata": {
        "id": "IQbMLgsBhErk"
      },
      "execution_count": null,
      "outputs": []
    },
    {
      "cell_type": "code",
      "source": [
        "df1.corr()"
      ],
      "metadata": {
        "id": "cmLZTa5X-Fx-"
      },
      "execution_count": null,
      "outputs": []
    },
    {
      "cell_type": "code",
      "source": [
        "df1[['bore', 'stroke', 'compression-ratio', 'horsepower']].corr()"
      ],
      "metadata": {
        "id": "IT2zOrnF-RoB"
      },
      "execution_count": null,
      "outputs": []
    },
    {
      "cell_type": "code",
      "source": [
        "import seaborn as sns\n",
        "\n",
        "plt.figure(figsize=(7,7))\n",
        "sns.scatterplot(x=df1['engine-size'], y=df1['price'])\n",
        "plt.show()"
      ],
      "metadata": {
        "id": "oYEprLp3AV_x"
      },
      "execution_count": null,
      "outputs": []
    },
    {
      "cell_type": "code",
      "source": [
        "import seaborn as sns\n",
        "\n",
        "plt.figure(figsize=(7,7))\n",
        "sns.scatterplot(x=df1['highway-mpg'], y=df1['price'])\n",
        "plt.show()"
      ],
      "metadata": {
        "id": "J9yQsbI4wjS7"
      },
      "execution_count": null,
      "outputs": []
    },
    {
      "cell_type": "code",
      "source": [
        "import seaborn as sns\n",
        "\n",
        "plt.figure(figsize=(7,7))\n",
        "sns.scatterplot(x=df1['peak-rpm'], y=df1['price'])\n",
        "plt.show()"
      ],
      "metadata": {
        "id": "U_6RMyQNwvHp"
      },
      "execution_count": null,
      "outputs": []
    },
    {
      "cell_type": "code",
      "source": [
        "import seaborn as sns\n",
        "\n",
        "plt.figure(figsize=(7,7))\n",
        "sns.scatterplot(x=df1['stroke'], y=df1['price'])\n",
        "plt.show()"
      ],
      "metadata": {
        "id": "3Hnx1kPexAwU"
      },
      "execution_count": null,
      "outputs": []
    },
    {
      "cell_type": "code",
      "source": [
        "fig = plt.figure(figsize=(20,8))   \n",
        "\n",
        "ax0 = fig.add_subplot(2, 2, 1)\n",
        "ax1 = fig.add_subplot(2, 2, 2)\n",
        "ax2 = fig.add_subplot(2, 2, 3)\n",
        "ax3 = fig.add_subplot(2, 2, 4)\n",
        "\n",
        "sns.set(font_scale= 1.5)\n",
        "\n",
        "# subplot 1:\n",
        "\n",
        "sns.regplot(x='engine-size', y='price', data=df1, color=\"green\", marker=\"+\",  scatter_kws={'s':50}, ax=ax0)\n",
        "ax0.set_title('price va engine-size: strong positive')\n",
        "\n",
        "# subplot 2:\n",
        "\n",
        "sns.regplot(x=\"highway-mpg\", y='price', data=df1, color='red', marker=\"*\", scatter_kws={\"s\" :50}, ax=ax1)\n",
        "ax1.set_title(\"price va highway-mpg : strong negative\")\n",
        "\n",
        "# subplot 3:\n",
        " \n",
        "sns.regplot(x=\"peak-rpm\", y='price', data=df1, color=\"blue\", marker=\"*\", scatter_kws={\"s\": 50} , ax=ax2)\n",
        "ax2.set_title(\"price va peak-mpg : weak\")\n",
        "\n",
        "# subplot 4:\n",
        "\n",
        "sns.regplot(x=\"stroke\", y='price', data=df1, color=\"red\", marker=\"+\", scatter_kws={\"s\": 50} , ax=ax3)\n",
        "ax3.set_title(\"price va stroke : weak\")\n",
        "\n",
        "fig.tight_layout()\n",
        "\n",
        "plt.show()\n",
        "\n",
        "\n"
      ],
      "metadata": {
        "id": "7Xdjsy-xsLpG"
      },
      "execution_count": null,
      "outputs": []
    },
    {
      "cell_type": "code",
      "source": [
        "# Relation between body-style and price\n",
        "\n",
        "plt.figure(figsize=(12,4))\n",
        "sns.boxplot(x=\"body-style\", y='price', data=df1)"
      ],
      "metadata": {
        "id": "E2jU19Y8boc_"
      },
      "execution_count": null,
      "outputs": []
    },
    {
      "cell_type": "code",
      "source": [
        "# Relation between engine-location and price\n",
        "\n",
        "plt.figure(figsize=(12,4))\n",
        "sns.boxplot(x=\"engine-location\", y='price', data=df1)"
      ],
      "metadata": {
        "id": "fig4TDwJM31u"
      },
      "execution_count": null,
      "outputs": []
    },
    {
      "cell_type": "code",
      "source": [
        "# Relation between drive-wheel and price\n",
        "\n",
        "plt.figure(figsize=(12,4))\n",
        "sns.boxplot(x=\"drive-wheels\", y='price', data=df1)"
      ],
      "metadata": {
        "id": "TaMoZS2ANllS"
      },
      "execution_count": null,
      "outputs": []
    },
    {
      "cell_type": "markdown",
      "source": [
        "## Groups Analysis"
      ],
      "metadata": {
        "id": "v_9dWzM1N-Vg"
      }
    },
    {
      "cell_type": "code",
      "source": [
        "df1['body-style'].unique()"
      ],
      "metadata": {
        "id": "VdMPH0-5N9j4"
      },
      "execution_count": null,
      "outputs": []
    },
    {
      "cell_type": "code",
      "source": [
        "df_group = df1[['body-style', 'price']]\n",
        "df_group_result = df_group.groupby(['body-style'], as_index= False).mean()\n",
        "df_group_result"
      ],
      "metadata": {
        "id": "x4DJKd9uO6KW"
      },
      "execution_count": null,
      "outputs": []
    },
    {
      "cell_type": "code",
      "source": [
        "df1['drive-wheels'].unique()"
      ],
      "metadata": {
        "id": "bDOiRCHCQgho"
      },
      "execution_count": null,
      "outputs": []
    },
    {
      "cell_type": "code",
      "source": [
        "df_group1 = df1[['drive-wheels', 'price']]\n",
        "df_group1_result = df_group1.groupby(['drive-wheels'], as_index= False).mean()\n",
        "df_group1_result"
      ],
      "metadata": {
        "id": "D56yfkUOQuAZ"
      },
      "execution_count": null,
      "outputs": []
    },
    {
      "cell_type": "code",
      "source": [
        "df_group = df1[['body-style','drive-wheels' ,'price']]\n",
        "df_group_result = df_group.groupby(['body-style','drive-wheels'], as_index= False).mean()\n",
        "df_group_result"
      ],
      "metadata": {
        "id": "p_SAmyMGQ6KR"
      },
      "execution_count": null,
      "outputs": []
    },
    {
      "cell_type": "markdown",
      "source": [
        "## Pearson Correlation coefficient Analysis"
      ],
      "metadata": {
        "id": "uzxnswMFRoKG"
      }
    },
    {
      "cell_type": "code",
      "source": [
        "\n",
        "from scipy import stats\n",
        "\n",
        "pearson_coef, p_value = stats.pearsonr(df1['wheel-base'], df1['price'])\n",
        "print(\"The pearson coefficient for wheel-base vs price is\", pearson_coef, \"with a P-value of P =\", p_value)\n",
        "\n",
        "pearson_coef, p_value = stats.pearsonr(df1['horsepower'], df1['price'])\n",
        "print(\"The pearson coefficient for horsepower vs price is\", pearson_coef, \"with a P-value of P =\", p_value)\n",
        "\n",
        "pearson_coef, p_value = stats.pearsonr(df1['length'], df1['price'])\n",
        "print(\"The pearson coefficient for length vs price is \", pearson_coef, \"with a P-value of P =\", p_value)\n",
        "\n",
        "pearson_coef, p_value = stats.pearsonr(df1['width'], df1['price'])\n",
        "print(\"The pearson coefficient for width vs price is \", pearson_coef, \"with a p-value of p =\", p_value)\n",
        "\n",
        "pearson_coef, p_value = stats.pearsonr(df1['curb-weight'], df1['price'])\n",
        "print(\"The pearson coefficient for curb-weight vs price is \", pearson_coef, \"with a p-value of p =\", p_value)\n",
        "\n",
        "pearson_coef, p_value = stats.pearsonr(df1['engine-size'], df1['price'])\n",
        "print(\"The pearson  coefficient for engine-size vs price is \" ,  pearson_coef, \"with a p-value of p =\", p_value)\n",
        "\n",
        "pearson_coef, p_value = stats.pearsonr(df1['bore'], df1['price'])\n",
        "print(\"The pearson coefficient for bore vs price is \", pearson_coef, \"with a p-value of p =\", p_value)\n",
        "\n",
        "pearson_coef, p_value = stats.pearsonr(df1['city-mpg'], df1['price'])\n",
        "print(\"The pearson coefficient for city-mpg vs price is \", pearson_coef, \"with a p-value of p =\", p_value)\n",
        "\n",
        "pearson_coef, p_value = stats.pearsonr(df1['highway-mpg'], df1['price'])\n",
        "print(\"The pearson coefficient for highway-mpg vs price is \", pearson_coef, \"with a p-value of p =\",  p_value)\n",
        "\n"
      ],
      "metadata": {
        "id": "ZGEuTPA7QgSk"
      },
      "execution_count": null,
      "outputs": []
    },
    {
      "cell_type": "markdown",
      "source": [
        "## Model develpoment and evalution"
      ],
      "metadata": {
        "id": "NPa5JlFrh1tS"
      }
    },
    {
      "cell_type": "code",
      "source": [
        "from sklearn.linear_model import LinearRegression\n",
        "from sklearn.ensemble import RandomForestRegressor\n",
        "from sklearn.pipeline import Pipeline\n",
        "from sklearn.model_selection import train_test_split\n",
        "from sklearn.model_selection  import GridSearchCV\n",
        "from sklearn.preprocessing import StandardScaler"
      ],
      "metadata": {
        "id": "psElESPMh6ba"
      },
      "execution_count": null,
      "outputs": []
    },
    {
      "cell_type": "code",
      "source": [
        "df_new = df1[['horsepower', \"curb-weight\", 'engine-size', 'highway-mpg', 'bore', 'wheel-base',\n",
        "              'city-mpg', 'length', 'width']]"
      ],
      "metadata": {
        "id": "ZAeKcS1ul-5J"
      },
      "execution_count": null,
      "outputs": []
    },
    {
      "cell_type": "code",
      "source": [
        "X_train, X_test, y_train, y_test = train_test_split(df_new, df1['price'], test_size=0.20, random_state=1)\n",
        "print(\"number of test samples :\", X_test.shape[0])\n",
        "print(\"number of training samples :\", X_train.shape[0] )"
      ],
      "metadata": {
        "id": "93v-zqPym9th"
      },
      "execution_count": null,
      "outputs": []
    },
    {
      "cell_type": "code",
      "source": [
        "# Multiple Linear Regression\n",
        "\n",
        "lm = LinearRegression()\n",
        "lm.fit(X_train, y_train)"
      ],
      "metadata": {
        "id": "9qLQV-8Cn3de"
      },
      "execution_count": null,
      "outputs": []
    },
    {
      "cell_type": "code",
      "source": [
        "print(\"The R-squared value for Multiple Linear Regression Model is :\", lm.score(X_test, y_test))"
      ],
      "metadata": {
        "id": "ALF0slx1rhlc"
      },
      "execution_count": null,
      "outputs": []
    },
    {
      "cell_type": "code",
      "source": [
        "# Random Forest Regression\n",
        "\n",
        "rm = RandomForestRegressor()\n",
        "rm.fit(X_train, y_train)"
      ],
      "metadata": {
        "id": "sGRi5g4utD3_"
      },
      "execution_count": null,
      "outputs": []
    },
    {
      "cell_type": "code",
      "source": [
        "print(\"The R-squared value for Random Forest Regression Model is :\", rm.score(X_test, y_test))"
      ],
      "metadata": {
        "id": "6pbLqDbmtcu0"
      },
      "execution_count": null,
      "outputs": []
    },
    {
      "cell_type": "code",
      "source": [
        "##  Knn Regression\n",
        "\n",
        "from sklearn.neighbors import KNeighborsRegressor"
      ],
      "metadata": {
        "id": "ePGx8xMOtAhw"
      },
      "execution_count": null,
      "outputs": []
    },
    {
      "cell_type": "code",
      "source": [
        "knr=KNeighborsRegressor()\n",
        "knr.fit(X_train,y_train)"
      ],
      "metadata": {
        "id": "PRcHKNIMutg2"
      },
      "execution_count": null,
      "outputs": []
    },
    {
      "cell_type": "code",
      "source": [
        "print(\"The R-squared value for knn Model is :\", knr.score(X_test, y_test))"
      ],
      "metadata": {
        "id": "b_lI5Nkgu5ad"
      },
      "execution_count": null,
      "outputs": []
    },
    {
      "cell_type": "code",
      "source": [
        "## SVM Regression\n",
        "\n",
        "from sklearn import svm"
      ],
      "metadata": {
        "id": "IGWSYTYEvBDA"
      },
      "execution_count": null,
      "outputs": []
    },
    {
      "cell_type": "code",
      "source": [
        "sv=svm.SVR()\n",
        "sv.fit(X_train,y_train)"
      ],
      "metadata": {
        "id": "C8TDjIExvCXZ"
      },
      "execution_count": null,
      "outputs": []
    },
    {
      "cell_type": "code",
      "source": [
        "print(\"The R-squared value for svm Model is :\", sv.score(X_test, y_test))"
      ],
      "metadata": {
        "id": "TeoyecUN0rZt"
      },
      "execution_count": null,
      "outputs": []
    },
    {
      "cell_type": "code",
      "source": [
        "## Desicion Tree Regressor\n",
        "\n",
        "from sklearn.tree import DecisionTreeRegressor"
      ],
      "metadata": {
        "id": "M5axieWzvarD"
      },
      "execution_count": null,
      "outputs": []
    },
    {
      "cell_type": "code",
      "source": [
        "dt=DecisionTreeRegressor()\n",
        "dt.fit(X_train,y_train)"
      ],
      "metadata": {
        "id": "qNd5iUxNvcT2"
      },
      "execution_count": null,
      "outputs": []
    },
    {
      "cell_type": "code",
      "source": [
        "print(\"The R-squared value for Decision tree Model is :\", dt.score(X_test, y_test))"
      ],
      "metadata": {
        "id": "Ib1B7S4TvkD2"
      },
      "execution_count": null,
      "outputs": []
    },
    {
      "cell_type": "code",
      "source": [],
      "metadata": {
        "id": "EdwOFWcI16Qg"
      },
      "execution_count": null,
      "outputs": []
    }
  ]
}